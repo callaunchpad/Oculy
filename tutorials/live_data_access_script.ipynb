{
  "nbformat": 4,
  "nbformat_minor": 0,
  "metadata": {
    "colab": {
      "provenance": []
    },
    "kernelspec": {
      "name": "python3",
      "display_name": "Python 3"
    },
    "language_info": {
      "name": "python"
    }
  },
  "cells": [
    {
      "cell_type": "markdown",
      "source": [
        "# 🔌 OpenSignals TCP/IP Integration Test\n",
        "\n",
        "This Colab notebook tests the **TCP/IP streaming interface** of the\n",
        "[OpenSignals (r)evolution](https://www.pluxbiosignals.com/pages/opensignals) software.\n",
        "\n",
        "It uses the official `tcp_ip_client_sample.py` code provided by PLUX to connect\n",
        "to the OpenSignals TCP/IP server and send commands such as `start`, `stop`, and `config`.\n",
        "\n",
        "You will:\n",
        "1. Connect to the local OpenSignals TCP/IP server.\n",
        "2. Send commands interactively.\n",
        "3. Receive and view real-time data streamed from sensors (e.g., EOG/EEG/ECG).\n",
        "\n",
        " **Requirements**\n",
        "- OpenSignals is running on your computer and TCP/IP is enabled.\n",
        "- Configured port = 5555 in OpenSignals → *Settings → Integration → TCP-IP*.\n"
      ],
      "metadata": {
        "id": "5CKSSplYoLmL"
      }
    },
    {
      "cell_type": "code",
      "source": [
        "#imports and setup\n",
        "import socket\n",
        "import json\n",
        "import threading\n",
        "import select\n",
        "import queue\n",
        "import pandas as pd\n",
        "import numpy as np\n",
        "\n",
        "# Menu of available commands\n",
        "MENU_INPUT = {\n",
        "    0: 'devices',\n",
        "    1: 'config,{MAC|DEVICE_ID}',\n",
        "    2: 'config,{MAC|DEVICE_ID}, {PARAM}, {VALUE}',\n",
        "    3: 'enable,{MAC|DEVICE_ID}',\n",
        "    4: 'disable,{MAC|DEVICE_ID}',\n",
        "    5: 'start',\n",
        "    6: 'set_digital_output, {MAC|DEVICE_ID}, {CHANNEL}, {STATE}',\n",
        "    7: 'stop',\n",
        "    8: 'exit'\n",
        "}\n"
      ],
      "metadata": {
        "id": "x8QO8wfwoKQo"
      },
      "execution_count": 2,
      "outputs": []
    },
    {
      "cell_type": "markdown",
      "source": [
        "Helper Functions for Menu Interaction"
      ],
      "metadata": {
        "id": "9E4ERrI0o-1g"
      }
    },
    {
      "cell_type": "code",
      "source": [
        "def show_menu():\n",
        "    print(\"\\nAvailable Commands:\")\n",
        "    for id in MENU_INPUT.keys():\n",
        "        print(f\"{id} | {MENU_INPUT[id]}\")\n",
        "\n",
        "def action_decode(action):\n",
        "    \"\"\"Convert numeric menu input into the command string OpenSignals expects.\"\"\"\n",
        "    if action == '0':\n",
        "        return 'devices'\n",
        "    elif action == '1':\n",
        "        device = input('MAC or DEVICE_ID: ')\n",
        "        return f'config,{device}'\n",
        "    elif action == '2':\n",
        "        device = input('MAC or DEVICE_ID: ')\n",
        "        param = input('Param (samplingfreq | activechannels): ')\n",
        "        value = input('Value: ')\n",
        "        return f'config,{device},{param},{value}'\n",
        "    elif action == '3':\n",
        "        device = input('MAC or DEVICE_ID: ')\n",
        "        return f'enable,{device}'\n",
        "    elif action == '4':\n",
        "        device = input('MAC or DEVICE_ID: ')\n",
        "        return f'disable,{device}'\n",
        "    elif action == '5':\n",
        "        return 'start'\n",
        "    elif action == '6':\n",
        "        device = input('MAC or DEVICE_ID: ')\n",
        "        channel = input('Digital output channel number: ')\n",
        "        state = input('Enable (1) or disable (0)?: ')\n",
        "        return f'set_digital_output_channel,{device},{channel},{state}'\n",
        "    elif action == '7':\n",
        "        return 'stop'\n",
        "    elif action == '8':\n",
        "        return ''\n",
        "    else:\n",
        "        return ''\n"
      ],
      "metadata": {
        "id": "dp8QrPs6o3ui"
      },
      "execution_count": 4,
      "outputs": []
    },
    {
      "cell_type": "markdown",
      "source": [
        "TCP Client Class"
      ],
      "metadata": {
        "id": "DPS58Zs2pCZF"
      }
    },
    {
      "cell_type": "code",
      "source": [
        "class TCPClient:\n",
        "    \"\"\"\n",
        "    Handles the socket connection with the OpenSignals TCP/IP server.\n",
        "    \"\"\"\n",
        "\n",
        "    def __init__(self, ip='127.0.0.1', port=5555):\n",
        "        self.tcpIp = ip\n",
        "        self.tcpPort = port\n",
        "        self.buffer_size = 99999\n",
        "\n",
        "        # Socket and I/O control\n",
        "        self.socket = socket.socket(socket.AF_INET, socket.SOCK_STREAM)\n",
        "        self.inputCheck = []\n",
        "        self.outputCheck = []\n",
        "        self.isChecking = False\n",
        "        self.isAcquiring = False\n",
        "        self.msgQueue = queue.Queue()\n",
        "\n",
        "        self.txtFile = SaveAcquisition()\n",
        "\n",
        "    def connect(self):\n",
        "        \"\"\"Connect to the OpenSignals TCP/IP server.\"\"\"\n",
        "        print(f\"Connecting to {self.tcpIp}:{self.tcpPort} ...\")\n",
        "        self.socket.connect((self.tcpIp, self.tcpPort))\n",
        "        print(\"Connected!\")\n",
        "        self.outputCheck.append(self.socket)\n",
        "        self.isChecking = True\n",
        "\n",
        "    def start(self):\n",
        "        \"\"\"Start background thread to check incoming/outgoing messages.\"\"\"\n",
        "        thread = threading.Thread(target=self.msgChecker)\n",
        "        thread.daemon = True\n",
        "        thread.start()\n",
        "\n",
        "    def stop(self):\n",
        "        \"\"\"Stop the background thread and close socket.\"\"\"\n",
        "        self.isChecking = False\n",
        "        self.socket.close()\n",
        "        print(\"Connection closed.\")\n",
        "\n",
        "    def msgChecker(self):\n",
        "        \"\"\"Continuously check for messages from OpenSignals.\"\"\"\n",
        "        while self.isChecking:\n",
        "            readable, writable, exceptional = select.select(self.inputCheck, self.outputCheck, self.inputCheck)\n",
        "            for s in readable:\n",
        "                message = s.recv(self.buffer_size)\n",
        "                if not self.isAcquiring:\n",
        "                    print(\"Received (status):\", message)\n",
        "                    self.inputCheck = []\n",
        "                else:\n",
        "                    try:\n",
        "                        message = json.loads(message)\n",
        "                        message = message[\"returnData\"]\n",
        "                        print(\"Received data packet:\", message)\n",
        "                    except Exception as e:\n",
        "                        print(\"Error decoding:\", e)\n",
        "\n",
        "            for s in writable:\n",
        "                try:\n",
        "                    next_msg = self.msgQueue.get_nowait()\n",
        "                except queue.Empty:\n",
        "                    continue\n",
        "                else:\n",
        "                    s.send(str(next_msg).encode())\n",
        "\n",
        "            for s in exceptional:\n",
        "                print(\"Socket exception:\", s)\n",
        "\n",
        "    def addMsgToSend(self, data):\n",
        "        \"\"\"Queue a command message to send to OpenSignals.\"\"\"\n",
        "        self.msgQueue.put(data)\n",
        "        if self.socket not in self.outputCheck:\n",
        "            self.outputCheck.append(self.socket)\n",
        "        if self.socket not in self.inputCheck:\n",
        "            self.inputCheck.append(self.socket)\n",
        "\n",
        "    def setIsAcquiring(self, isAcquiring):\n",
        "        \"\"\"Set whether we are acquiring data.\"\"\"\n",
        "        self.isAcquiring = isAcquiring\n",
        "        if self.isAcquiring:\n",
        "            self.txtFile = SaveAcquisition()\n",
        "            self.txtFile.start()\n",
        "        else:\n",
        "            self.txtFile.stop()\n"
      ],
      "metadata": {
        "id": "8jb_I2Eeo69X"
      },
      "execution_count": 5,
      "outputs": []
    },
    {
      "cell_type": "markdown",
      "source": [
        "SaveAcquisition Helper Class"
      ],
      "metadata": {
        "id": "bTj-6yhdpdns"
      }
    },
    {
      "cell_type": "code",
      "source": [
        "class SaveAcquisition:\n",
        "    \"\"\"\n",
        "    Minimal stub for handling data saving during acquisition.\n",
        "    (Currently only prints and tracks whether a header has been written.)\n",
        "    \"\"\"\n",
        "\n",
        "    def __init__(self):\n",
        "        self.fileTxt = None\n",
        "        self.hasHeader = False\n",
        "\n",
        "    def start(self):\n",
        "        print(\"Acquisition started (file writer would start here).\")\n",
        "\n",
        "    def addData(self, data):\n",
        "        self.hasHeader = True\n",
        "        # Placeholder: you could write to file here\n",
        "        print(\"Data:\", data[:100], \"...\" if len(data) > 100 else \"\")\n",
        "\n",
        "    def stop(self):\n",
        "        print(\"Acquisition stopped.\")\n",
        "\n",
        "    def getHasHeader(self):\n",
        "        return self.hasHeader\n"
      ],
      "metadata": {
        "id": "shjjwZYfpD9f"
      },
      "execution_count": 6,
      "outputs": []
    },
    {
      "cell_type": "markdown",
      "source": [
        "# Set your IP and Port (match OpenSignals Integration settings)\n"
      ],
      "metadata": {
        "id": "RRYJGWc5pgQo"
      }
    },
    {
      "cell_type": "code",
      "source": [
        "client = TCPClient(ip='127.0.0.1', port=5555)\n",
        "client.connect()\n",
        "client.start()\n",
        "\n",
        "while True:\n",
        "    show_menu()\n",
        "    user_action = input(\"Select action: \")\n",
        "    if user_action == '5':\n",
        "        client.setIsAcquiring(True)\n",
        "    elif user_action == '7':\n",
        "        client.setIsAcquiring(False)\n",
        "    elif user_action == '8':\n",
        "        client.stop()\n",
        "        break\n",
        "    msg = action_decode(user_action)\n",
        "    client.addMsgToSend(msg)"
      ],
      "metadata": {
        "colab": {
          "base_uri": "https://localhost:8080/",
          "height": 349
        },
        "id": "D1TbblBKpftf",
        "outputId": "4e98f768-cd9d-4b61-a4dc-ad0672ad68df"
      },
      "execution_count": 7,
      "outputs": [
        {
          "output_type": "stream",
          "name": "stdout",
          "text": [
            "Connecting to 127.0.0.1:5555 ...\n"
          ]
        },
        {
          "output_type": "error",
          "ename": "ConnectionRefusedError",
          "evalue": "[Errno 111] Connection refused",
          "traceback": [
            "\u001b[0;31m---------------------------------------------------------------------------\u001b[0m",
            "\u001b[0;31mConnectionRefusedError\u001b[0m                    Traceback (most recent call last)",
            "\u001b[0;32m/tmp/ipython-input-971303755.py\u001b[0m in \u001b[0;36m<cell line: 0>\u001b[0;34m()\u001b[0m\n\u001b[1;32m      1\u001b[0m \u001b[0mclient\u001b[0m \u001b[0;34m=\u001b[0m \u001b[0mTCPClient\u001b[0m\u001b[0;34m(\u001b[0m\u001b[0mip\u001b[0m\u001b[0;34m=\u001b[0m\u001b[0;34m'127.0.0.1'\u001b[0m\u001b[0;34m,\u001b[0m \u001b[0mport\u001b[0m\u001b[0;34m=\u001b[0m\u001b[0;36m5555\u001b[0m\u001b[0;34m)\u001b[0m\u001b[0;34m\u001b[0m\u001b[0;34m\u001b[0m\u001b[0m\n\u001b[0;32m----> 2\u001b[0;31m \u001b[0mclient\u001b[0m\u001b[0;34m.\u001b[0m\u001b[0mconnect\u001b[0m\u001b[0;34m(\u001b[0m\u001b[0;34m)\u001b[0m\u001b[0;34m\u001b[0m\u001b[0;34m\u001b[0m\u001b[0m\n\u001b[0m\u001b[1;32m      3\u001b[0m \u001b[0mclient\u001b[0m\u001b[0;34m.\u001b[0m\u001b[0mstart\u001b[0m\u001b[0;34m(\u001b[0m\u001b[0;34m)\u001b[0m\u001b[0;34m\u001b[0m\u001b[0;34m\u001b[0m\u001b[0m\n\u001b[1;32m      4\u001b[0m \u001b[0;34m\u001b[0m\u001b[0m\n\u001b[1;32m      5\u001b[0m \u001b[0;32mwhile\u001b[0m \u001b[0;32mTrue\u001b[0m\u001b[0;34m:\u001b[0m\u001b[0;34m\u001b[0m\u001b[0;34m\u001b[0m\u001b[0m\n",
            "\u001b[0;32m/tmp/ipython-input-2717739900.py\u001b[0m in \u001b[0;36mconnect\u001b[0;34m(self)\u001b[0m\n\u001b[1;32m     22\u001b[0m         \u001b[0;34m\"\"\"Connect to the OpenSignals TCP/IP server.\"\"\"\u001b[0m\u001b[0;34m\u001b[0m\u001b[0;34m\u001b[0m\u001b[0m\n\u001b[1;32m     23\u001b[0m         \u001b[0mprint\u001b[0m\u001b[0;34m(\u001b[0m\u001b[0;34mf\"Connecting to {self.tcpIp}:{self.tcpPort} ...\"\u001b[0m\u001b[0;34m)\u001b[0m\u001b[0;34m\u001b[0m\u001b[0;34m\u001b[0m\u001b[0m\n\u001b[0;32m---> 24\u001b[0;31m         \u001b[0mself\u001b[0m\u001b[0;34m.\u001b[0m\u001b[0msocket\u001b[0m\u001b[0;34m.\u001b[0m\u001b[0mconnect\u001b[0m\u001b[0;34m(\u001b[0m\u001b[0;34m(\u001b[0m\u001b[0mself\u001b[0m\u001b[0;34m.\u001b[0m\u001b[0mtcpIp\u001b[0m\u001b[0;34m,\u001b[0m \u001b[0mself\u001b[0m\u001b[0;34m.\u001b[0m\u001b[0mtcpPort\u001b[0m\u001b[0;34m)\u001b[0m\u001b[0;34m)\u001b[0m\u001b[0;34m\u001b[0m\u001b[0;34m\u001b[0m\u001b[0m\n\u001b[0m\u001b[1;32m     25\u001b[0m         \u001b[0mprint\u001b[0m\u001b[0;34m(\u001b[0m\u001b[0;34m\"Connected!\"\u001b[0m\u001b[0;34m)\u001b[0m\u001b[0;34m\u001b[0m\u001b[0;34m\u001b[0m\u001b[0m\n\u001b[1;32m     26\u001b[0m         \u001b[0mself\u001b[0m\u001b[0;34m.\u001b[0m\u001b[0moutputCheck\u001b[0m\u001b[0;34m.\u001b[0m\u001b[0mappend\u001b[0m\u001b[0;34m(\u001b[0m\u001b[0mself\u001b[0m\u001b[0;34m.\u001b[0m\u001b[0msocket\u001b[0m\u001b[0;34m)\u001b[0m\u001b[0;34m\u001b[0m\u001b[0;34m\u001b[0m\u001b[0m\n",
            "\u001b[0;31mConnectionRefusedError\u001b[0m: [Errno 111] Connection refused"
          ]
        }
      ]
    },
    {
      "cell_type": "code",
      "source": [],
      "metadata": {
        "id": "njhPSmx-pmdA"
      },
      "execution_count": null,
      "outputs": []
    }
  ]
}