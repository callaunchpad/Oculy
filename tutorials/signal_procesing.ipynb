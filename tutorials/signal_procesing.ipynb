{
 "cells": [
  {
   "cell_type": "markdown",
   "id": "3339bf6f",
   "metadata": {},
   "source": [
    "# Signal Processing with OpenSignals Data\n",
    "\n",
    "This notebook demonstrates loading and analyzing OpenSignals data from Bitalino devices."
   ]
  },
  {
   "cell_type": "code",
   "execution_count": null,
   "id": "imports",
   "metadata": {},
   "outputs": [],
   "source": [
    "import pandas as pd\n",
    "import numpy as np\n",
    "import matplotlib.pyplot as plt\n",
    "import h5py\n",
    "import json\n",
    "from pathlib import Path\n",
    "from scipy.signal import butter, filtfilt, freqz, welch, spectrogram"
   ]
  },
  {
   "cell_type": "markdown",
   "id": "load_data",
   "metadata": {},
   "source": [
    "## Loading the Data Files\n",
    "\n",
    "We have two data files:\n",
    "- `.txt` file: OpenSignals text format with metadata\n",
    "- `.h5` file: HDF5 binary format"
   ]
  },
  {
   "cell_type": "code",
   "execution_count": null,
   "id": "load_txt",
   "metadata": {},
   "outputs": [],
   "source": [
    "# Load the text file\n",
    "txt_file = '../data/sample_data/opensignals_84BA20AEBFDA_2025-10-04_12-25-49.txt'\n",
    "\n",
    "# Read metadata from header\n",
    "with open(txt_file, 'r') as f:\n",
    "    lines = f.readlines()\n",
    "    \n",
    "# Extract metadata from second line (JSON format)\n",
    "metadata_line = lines[1].strip('# \\n')\n",
    "metadata = json.loads(metadata_line)\n",
    "\n",
    "print(\"Device Metadata:\")\n",
    "device_info = list(metadata.values())[0]\n",
    "for key, value in device_info.items():\n",
    "    print(f\"{key}: {value}\")"
   ]
  },
  {
   "cell_type": "code",
   "execution_count": null,
   "id": "load_data_txt",
   "metadata": {},
   "outputs": [],
   "source": [
    "# Load the actual data (skip header lines)\n",
    "data_txt = pd.read_csv(txt_file, sep='\\t', skiprows=3, header=None)\n",
    "\n",
    "# Remove any empty columns (trailing tabs create empty columns)\n",
    "data_txt = data_txt.dropna(axis=1, how='all')\n",
    "\n",
    "# Set column names based on metadata\n",
    "columns = device_info['column']\n",
    "if len(data_txt.columns) == len(columns):\n",
    "    data_txt.columns = columns\n",
    "else:\n",
    "    print(f\"Warning: Data has {len(data_txt.columns)} columns but metadata specifies {len(columns)} columns\")\n",
    "    # Use generic column names if mismatch\n",
    "    data_txt.columns = [f'col_{i}' for i in range(len(data_txt.columns))]\n",
    "\n",
    "print(f\"Data shape: {data_txt.shape}\")\n",
    "print(f\"\\nColumn names: {list(data_txt.columns)}\")\n",
    "print(f\"\\nFirst few rows:\")\n",
    "data_txt.head()"
   ]
  },
  {
   "cell_type": "markdown",
   "id": "visualize",
   "metadata": {},
   "source": [
    "## Data Visualization\n",
    "\n",
    "Let's visualize the analog channels (A1-A6) to see what the signals look like."
   ]
  },
  {
   "cell_type": "code",
   "execution_count": null,
   "id": "plot_signals",
   "metadata": {},
   "outputs": [],
   "source": [
    "# Create time axis (sampling rate is 1000 Hz)\n",
    "sampling_rate = device_info['sampling rate']\n",
    "time = np.arange(len(data_txt)) / sampling_rate\n",
    "\n",
    "# Plot analog channels - find columns that contain analog data\n",
    "fig, axes = plt.subplots(3, 2, figsize=(15, 10))\n",
    "fig.suptitle('OpenSignals Data - Analog Channels', fontsize=16)\n",
    "\n",
    "# Try to identify analog channels from the data\n",
    "if 'A1' in data_txt.columns:\n",
    "    analog_channels = ['A1', 'A2', 'A3', 'A4', 'A5', 'A6']\n",
    "else:\n",
    "    # Use the last 6 columns as analog channels (typical for Bitalino)\n",
    "    analog_channels = data_txt.columns[-6:].tolist()\n",
    "\n",
    "print(f\"Plotting channels: {analog_channels}\")\n",
    "\n",
    "for i, channel in enumerate(analog_channels):\n",
    "    if i >= 6:  # Only plot first 6 channels\n",
    "        break\n",
    "    row = i // 2\n",
    "    col = i % 2\n",
    "    \n",
    "    axes[row, col].plot(time, data_txt[channel], 'b-', linewidth=0.5)\n",
    "    axes[row, col].set_title(f'Channel {channel}')\n",
    "    axes[row, col].set_xlabel('Time (s)')\n",
    "    axes[row, col].set_ylabel('Amplitude')\n",
    "    axes[row, col].grid(True, alpha=0.3)\n",
    "\n",
    "plt.tight_layout()\n",
    "plt.show()"
   ]
  },
  {
   "cell_type": "markdown",
   "id": "14636db4",
   "metadata": {},
   "source": [
    "We did a simple experiment with X axis electrodes on channel 4 so lets extract the signal from channel 4."
   ]
  },
  {
   "cell_type": "code",
   "execution_count": null,
   "id": "483c26a6",
   "metadata": {},
   "outputs": [],
   "source": [
    "# Plot Channel 4 data specifically\n",
    "plt.figure(figsize=(12, 6))\n",
    "\n",
    "# Determine which column represents channel 4\n",
    "if 'A4' in data_txt.columns:\n",
    "    channel_4_data = data_txt['A4']\n",
    "    channel_name = 'A4'\n",
    "elif len(data_txt.columns) >= 9:  # Assuming channel 4 is the 9th column (nSeq, I1, I2, O1, O2, A1, A2, A3, A4)\n",
    "    channel_4_data = data_txt.iloc[:, 8]  # 9th column (0-indexed)\n",
    "    channel_name = data_txt.columns[8]\n",
    "else:\n",
    "    # Fallback: use 4th column from the end (assuming last 6 are analog channels)\n",
    "    channel_4_data = data_txt.iloc[:, -3]  # 4th from end\n",
    "    channel_name = data_txt.columns[-3]\n",
    "\n",
    "# Create time axis\n",
    "time = np.arange(len(channel_4_data)) / sampling_rate\n",
    "\n",
    "# Plot the signal\n",
    "plt.plot(time, channel_4_data, 'b-', linewidth=0.8)\n",
    "plt.title(f'Channel 4 Signal ({channel_name})', fontsize=14, fontweight='bold')\n",
    "plt.xlabel('Time (seconds)', fontsize=12)\n",
    "plt.ylabel('Amplitude (digital units)', fontsize=12)\n",
    "plt.grid(True, alpha=0.3)\n",
    "\n",
    "# Add some basic statistics as text\n",
    "mean_val = np.mean(channel_4_data)\n",
    "std_val = np.std(channel_4_data)\n",
    "min_val = np.min(channel_4_data)\n",
    "max_val = np.max(channel_4_data)\n",
    "\n",
    "stats_text = f'Mean: {mean_val:.1f}\\nStd: {std_val:.1f}\\nMin: {min_val}\\nMax: {max_val}'\n",
    "plt.text(0.02, 0.98, stats_text, transform=plt.gca().transAxes, \n",
    "         verticalalignment='top', bbox=dict(boxstyle='round', facecolor='wheat', alpha=0.8))\n",
    "\n",
    "plt.tight_layout()\n",
    "plt.show()\n",
    "\n",
    "print(f\"Channel 4 ({channel_name}) Statistics:\")\n",
    "print(f\"Duration: {len(channel_4_data) / sampling_rate:.2f} seconds\")\n",
    "print(f\"Samples: {len(channel_4_data)}\")\n",
    "print(f\"Mean: {mean_val:.2f}\")\n",
    "print(f\"Standard deviation: {std_val:.2f}\")\n",
    "print(f\"Range: {min_val} to {max_val}\")"
   ]
  },
  {
   "cell_type": "markdown",
   "id": "transfer_functions",
   "metadata": {},
   "source": [
    "## Transfer Functions: Converting sensor data into physical units\n",
    "\n",
    "Sensor data acquired with BITalino and biosignalsplux devices are represented in the digitized sensor values ranging between 0 and 2^(sampling resolution – 1) due to the analog to digital conversion of the acquired sensor signal.\n",
    "\n",
    "Using OpenSignals, you can export sensor data in their digital value format or convert the signals into their original physical units.\n",
    "\n",
    "- [BITalino Sensor Documentation](https://bitalino.com/documentation)\n",
    "- [biosignalsplux Sensor Documentation](https://biosignalsplux.com/documentation)\n",
    "\n",
    "You can find below an example of how to apply the transfer function.\n",
    "\n",
    "**EOG(mV) = (ADC/2^(n-1) - 0.5) × VCC × Gecg**\n",
    "\n",
    "We can define the parameters of the transfer function as follows:"
   ]
  },
  {
   "cell_type": "code",
   "execution_count": null,
   "id": "transfer_function_params",
   "metadata": {},
   "outputs": [],
   "source": [
    "# ADC: Digital values of the EOG signal\n",
    "eog_digital = channel_4_data\n",
    "\n",
    "# n: Sampling resolution of the signal 10 bit\n",
    "sampling_resolution = 10\n",
    "\n",
    "# VCC: the sensor's operating voltage of 3.3V\n",
    "# Datasheet ref: https://support.pluxbiosignals.com/wp-content/uploads/2021/11/eog-sensor-datasheet-rev.pdf\n",
    "vcc = 3.3\n",
    "\n",
    "# Gecg: the sensor's gain\n",
    "# Datasheet ref: https://support.pluxbiosignals.com/wp-content/uploads/2021/11/eog-sensor-datasheet-rev.pdf\n",
    "gain = 2038"
   ]
  },
  {
   "cell_type": "markdown",
   "id": "transfer_function_formula",
   "metadata": {},
   "source": [
    "Using these parameters, the resulting transfer function to convert the ECG signal back into mV would be as follows:"
   ]
  },
  {
   "cell_type": "code",
   "execution_count": null,
   "id": "apply_transfer_function",
   "metadata": {},
   "outputs": [],
   "source": [
    "# Convert ECG signal into V and mV\n",
    "eog_V = (eog_digital / (2**sampling_resolution) - 0.5) * vcc / gain\n",
    "eog_mV = (eog_digital / (2**sampling_resolution) - 0.5) * vcc / gain * 1000"
   ]
  },
  {
   "cell_type": "code",
   "execution_count": null,
   "id": "96d1ae47",
   "metadata": {},
   "outputs": [],
   "source": [
    "def plot_signal(signal, plot_title, sampling_rate, amplitude_units = \"V\"):\n",
    "    # Create time axis\n",
    "    plt.figure(figsize=(12, 6))\n",
    "    time = np.arange(len(signal)) / sampling_rate\n",
    "\n",
    "    # Plot the signal\n",
    "    plt.plot(time, signal, 'b-', linewidth=0.8)\n",
    "    plt.title(plot_title, fontsize=14, fontweight='bold')\n",
    "    plt.xlabel('Time (seconds)', fontsize=12)\n",
    "    plt.ylabel(f'Amplitude {amplitude_units}', fontsize=12)\n",
    "    plt.grid(True, alpha=0.3)\n",
    "    plt.tight_layout()\n",
    "    plt.show()"
   ]
  },
  {
   "cell_type": "code",
   "execution_count": null,
   "id": "3149cd05",
   "metadata": {},
   "outputs": [],
   "source": [
    "plot_signal(eog_mV, \"EOG (mV)\", sampling_rate, \"mV\")"
   ]
  },
  {
   "cell_type": "markdown",
   "id": "fa870a0b",
   "metadata": {},
   "source": [
    "Oof extremely noisy data but we can continue with it for now..."
   ]
  },
  {
   "cell_type": "markdown",
   "id": "6db7a570",
   "metadata": {},
   "source": [
    "## Signals Processing: Playing with Filters"
   ]
  },
  {
   "cell_type": "code",
   "execution_count": null,
   "id": "8ba3bffb",
   "metadata": {},
   "outputs": [],
   "source": [
    "def butter_filter(filter_type, cutoff, fs, order=4, band=None):\n",
    "    nyq = 0.5 * fs\n",
    "    if filter_type == 'low':\n",
    "        normal_cutoff = cutoff / nyq\n",
    "        b, a = butter(order, normal_cutoff, btype='low')\n",
    "    elif filter_type == 'high':\n",
    "        normal_cutoff = cutoff / nyq\n",
    "        b, a = butter(order, normal_cutoff, btype='high')\n",
    "    elif filter_type == 'band':\n",
    "        low, high = band\n",
    "        b, a = butter(order, [low/nyq, high/nyq], btype='band')\n",
    "    return b, a\n",
    "\n",
    "def apply_filter(signal, b, a):\n",
    "    return filtfilt(b, a, signal)\n"
   ]
  },
  {
   "cell_type": "code",
   "execution_count": null,
   "id": "0372ef16",
   "metadata": {},
   "outputs": [],
   "source": [
    "# --- Filter parameters ---\n",
    "low_cutoff = 10      # Hz\n",
    "high_cutoff = 0.1    # Hz\n",
    "band_cutoff = (0.1, 10)  # Hz\n",
    "\n",
    "# --- Create filters ---\n",
    "b_low, a_low = butter_filter('low', low_cutoff, sampling_rate)\n",
    "b_high, a_high = butter_filter('high', high_cutoff, sampling_rate)\n",
    "b_band, a_band = butter_filter('band', None, sampling_rate, band=band_cutoff)\n",
    "\n",
    "# --- Apply filters ---\n",
    "eog_low = apply_filter(eog_mV, b_low, a_low)\n",
    "eog_high = apply_filter(eog_mV, b_high, a_high)\n",
    "eog_band = apply_filter(eog_mV, b_band, a_band)\n",
    "\n",
    "# --- Plot comparisons ---\n",
    "plot_signal(eog_mV, \"Raw EOG Signal (mV)\", sampling_rate, \"mV\")\n",
    "plot_signal(eog_low, \"Low-Pass Filtered EOG (<10 Hz)\", sampling_rate, \"mV\")\n",
    "plot_signal(eog_high, \"High-Pass Filtered EOG (>0.1 Hz)\", sampling_rate, \"mV\")\n",
    "plot_signal(eog_band, \"Band-Pass Filtered EOG (0.1–10 Hz)\", sampling_rate, \"mV\")\n"
   ]
  },
  {
   "cell_type": "markdown",
   "id": "b8d71566",
   "metadata": {},
   "source": [
    "# Frequency Response of Filters"
   ]
  },
  {
   "cell_type": "code",
   "execution_count": null,
   "id": "25140604",
   "metadata": {},
   "outputs": [],
   "source": [
    "plt.figure(figsize=(10, 6))\n",
    "for (b, a, label) in [(b_low, a_low, 'Low-pass (10 Hz)'),\n",
    "                      (b_high, a_high, 'High-pass (0.1 Hz)'),\n",
    "                      (b_band, a_band, 'Band-pass (0.1–10 Hz)')]:\n",
    "    w, h = freqz(b, a, worN=1024)\n",
    "    plt.plot((sampling_rate * 0.5 / np.pi) * w, abs(h), label=label)\n",
    "\n",
    "plt.title(\"Filter Frequency Responses\", fontsize=14, fontweight='bold')\n",
    "plt.xlabel('Frequency (Hz)')\n",
    "plt.ylabel('Gain')\n",
    "plt.grid(True, alpha=0.3)\n",
    "plt.legend()\n",
    "plt.show()\n"
   ]
  },
  {
   "cell_type": "markdown",
   "id": "ceabb704",
   "metadata": {},
   "source": [
    "# Spectogram"
   ]
  },
  {
   "cell_type": "code",
   "execution_count": null,
   "id": "bee51306",
   "metadata": {},
   "outputs": [],
   "source": [
    "f, t, Sxx = spectrogram(eog_band, fs=sampling_rate, nperseg=512)\n",
    "plt.figure(figsize=(12, 6))\n",
    "plt.pcolormesh(t, f, 10*np.log10(Sxx), shading='auto')\n",
    "plt.title('EOG Spectrogram (Band-pass Filtered)', fontsize=14, fontweight='bold')\n",
    "plt.ylabel('Frequency [Hz]')\n",
    "plt.xlabel('Time [sec]')\n",
    "plt.colorbar(label='Power/Frequency (dB/Hz)')\n",
    "plt.ylim(0, 15)\n",
    "plt.tight_layout()\n",
    "plt.show()\n"
   ]
  },
  {
   "cell_type": "code",
   "execution_count": null,
   "id": "6b90f334",
   "metadata": {},
   "outputs": [],
   "source": []
  }
 ],
 "metadata": {
  "kernelspec": {
   "display_name": "Python 3",
   "language": "python",
   "name": "python3"
  },
  "language_info": {
   "codemirror_mode": {
    "name": "ipython",
    "version": 3
   },
   "file_extension": ".py",
   "mimetype": "text/x-python",
   "name": "python",
   "nbconvert_exporter": "python",
   "pygments_lexer": "ipython3",
   "version": "3.12.4"
  }
 },
 "nbformat": 4,
 "nbformat_minor": 5
}
